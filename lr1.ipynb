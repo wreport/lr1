{
 "cells": [
  {
   "cell_type": "markdown",
   "metadata": {},
   "source": [
    "# Лабораторна робота №1\n",
    "\n",
    "## Програмний доступ до баз даних NCBI\n",
    "\n",
    "*Тема*: програмний доступ до баз даних NCBI, користування інтерфейсом баз даних Entrez\n",
    "\n",
    "*Mета*: навчитись користуватись інтерфейсом Entrez, ознайомитись з доступом до бази даних \n",
    "\n",
    "#### Теоретичні відомості\n",
    "\n",
    "Entrez - це основна система пошуку та отримання бази даних NCBI, яка інтегрує базу даних біомедичної літератури PubMed з 38 іншими літературами та молекулярними базами даних, включаючи послідовності ДНК та білків, структуру білків, відомості про гени, геноми, генетичну варіацію та експресію генів. Інтерфейс пошуку Entrez має потужні варіанти для побудови точного пошуку та управління результатами. Опції включають популярні налаштовані заздалегідь встановлені фасетні фільтри, що допомогають зосередитись на конкретних видах результатів та інтерфейс розширеного пошуку, який полегшує побудову більш складних запитів. Спеціалізовані поля пошуку доступні для кожної бази даних, і їх можна переглядати та вибирати в розділі \"Конструктор пошуку\" інтерфейсу розширеного пошуку. Інші корисні функції Entrez включають історію пошуку з доступом до останніх результатів та буфер обміну, де результати пошуку можна тимчасово зберігати. Найголовніше, що Entrez інтегрує дані з посиланнями всередині і між базами даних. Це не лише покращує навігацію та дозволяє швидко зосередити або розширити результати пошуку; але, що ще важливіше, ці відносини часто виявляють несподівані зв’язки, які можуть призвести до наукових відкриттів. Більше про систему Entrez можна прочитати тут: https://www.ncbi.nlm.nih.gov/books/NBK3837/\n",
    "\n",
    "Для проведення цієї лабораторної роботи використовується Jupyter Notebook. Jupyter Notebook (раніше IPython) - це веб-інтерактивне обчислювальне середовище для створення інтерактивних програмних документів. Термін \"ноутбук\" може розмовно посилатися на багато різних об'єктів, в основному веб-додаток Юпітер, веб-сервер Jupyter Python або формат документа Jupyter залежно від контексту. Документ Jupyter Notebook - це документ JSON, виконаний за схемою, що впорядковується, і містить упорядкований перелік вхідних / вихідних комірок, який може містити код, текст (за допомогою Markdown), математичні обчислення, графіки та мультимедіа, зазвичай має розширення \".ipynb\". Більше про Jupyter Notebooks ви можете прочитати за адресою: https://jupyter.org/\n",
    "\n",
    "Ви можете завантажити готовий до виконання лаборатороної роботи ноутбук за адресою: \n",
    "\n",
    "Про Entrez модуль Biopython: https://biopython.org/DIST/docs/api/Bio.Entrez-module.html\n",
    "\n",
    "Рекомендуємо використати Anaconda для встановлення та використання Jupyter Notebook.\n",
    "\n",
    "На цій лабораторній роботі ми навчимося під'єднуватись програмно до баз даних NCBI за допомогою системи Entrez та навчимось інтерпретувати результати таких запитів.\n",
    "\n",
    "#### Практичне завдання\n",
    "\n",
    "1. Встановити необхідні залежності та імпортувати до середовища необхідні модулі.\n",
    "\n",
    "Рекомендується виконувати цю роботу у Jupyter Notebook. Запустіть ноутбук lr1.ipynb та віднайдіть відповідну ділянку коду. Надалі весь програмний код у цій лабораторній роботі буде виділятись табуляцією. Для того, щоб виконати певну команду в Jupyter notebook, виділіть відповідну комірку з кодом та натисніть Ctrl+Enter або Shift+Enter:"
   ]
  },
  {
   "cell_type": "code",
   "execution_count": null,
   "metadata": {},
   "outputs": [],
   "source": [
    "conda install -c anaconda biopython"
   ]
  },
  {
   "cell_type": "code",
   "execution_count": null,
   "metadata": {},
   "outputs": [],
   "source": [
    "import os\n",
    "import math\n",
    "import pandas as pd\n",
    "import numpy as np\n",
    "import matplotlib as mpl\n",
    "import matplotlib.pyplot as plt\n",
    "from Bio import Entrez\n",
    "# if using a Jupyter notebook, inlcude:\n",
    "%matplotlib inline"
   ]
  },
  {
   "cell_type": "markdown",
   "metadata": {},
   "source": [
    "2. Перше завдання — це навчитись добувати дані з баз даних NCBI програмними запитами. Для початку спробуємо добути інформацію з бази даних Gene. Ця база даних містить інформацію щодо індивідуальних генів. Спробуємо отримати інформацію щодо гену, що кодує лейкоцитарний антиген людини.\n",
    "\n",
    "Зареєструйте акаунт на сайті NCBI (https://www.ncbi.nlm.nih.gov/account/) та введіть в наступні комірки свої email та api-key, отримані при реєстрації акаунту.\n"
   ]
  },
  {
   "cell_type": "code",
   "execution_count": null,
   "metadata": {},
   "outputs": [],
   "source": [
    "Entrez.email = 'XXX'\n",
    "Entrez.api_key = 'XXX'"
   ]
  },
  {
   "cell_type": "markdown",
   "metadata": {},
   "source": [
    "Після цього за допомогою команди Entrez.esearch запустіть пошук по базі даних Entrez за обраним геном та отримайте результат. Зберіжіть результат у змінній record.\n",
    "Виведіть результат пошуку на екран. Ви побачите, що отримали велику кількість ID різних генів, що мають відношення до Human Leukocyte Antigen.\n"
   ]
  },
  {
   "cell_type": "code",
   "execution_count": null,
   "metadata": {},
   "outputs": [],
   "source": [
    "handle = Entrez.esearch(db = 'gene', retmax = 100000, term = 'Human Leukocyte Antigen')\n",
    "record = Entrez.read(handle)\n",
    "handle.close()"
   ]
  },
  {
   "cell_type": "code",
   "execution_count": null,
   "metadata": {},
   "outputs": [],
   "source": [
    "print(record)"
   ]
  },
  {
   "cell_type": "markdown",
   "metadata": {},
   "source": [
    "Запустіть біль детальний пошук по першому ID зі списку за допомогою команди Entrez.efetch. Збережіть та виведіть отриманий результат на екран. "
   ]
  },
  {
   "cell_type": "code",
   "execution_count": null,
   "metadata": {},
   "outputs": [],
   "source": [
    "fetch_id = record['IdList'][0]\n",
    "print(fetch_id)"
   ]
  },
  {
   "cell_type": "code",
   "execution_count": null,
   "metadata": {},
   "outputs": [],
   "source": [
    "handle = Entrez.efetch(db = 'gene', id = fetch_id, retmode = 'text', rettype = 'gene_table')\n",
    "print(handle.readline().strip())"
   ]
  },
  {
   "cell_type": "code",
   "execution_count": null,
   "metadata": {},
   "outputs": [],
   "source": [
    "print(handle.readlines())"
   ]
  },
  {
   "cell_type": "markdown",
   "metadata": {},
   "source": [
    "Ви зможете побачити більш детальну інформацію щодо обраного гену. Повторюючі такі дії щодо великої кількості генів можна швидко отримати велику кількість релевантної інформації для подальшого аналізу.\n",
    "\n",
    "3. Тепер давайте спробуємо добути інформацію щодо якоїсь нуклеотидної послідовності, скористаючись базою даних nucleotide.\n",
    "\n",
    "Запустіть пошук щодо обраного генетичного терміну (у прикладі — циклоспорин) по базі даних nucleotide, аналогічно до п.2. Збережіть результати.Використовуючи отримані результати, для кожного отриманого ID запустіть пошук та отримайте більш детальну інформацію щодо нуклеотидної послідовності. Збережіть дані нуклеотидних послідовностей у список nucleotide_list та виведіть їх на екран. Слід зазначити, що наступний код може виконуватись 30-40 секунд.\n"
   ]
  },
  {
   "cell_type": "code",
   "execution_count": null,
   "metadata": {},
   "outputs": [],
   "source": [
    "nucleotide_term = 'Cyclosporin'\n",
    "handle = Entrez.esearch(db = 'nucleotide', retmax = 10, term = nucleotide_term)\n",
    "record = Entrez.read(handle)\n",
    "handle.close()\n",
    "\n",
    "nucleotide_list = []\n",
    "\n",
    "for nucleotide_id in record[\"IdList\"]:\n",
    "    handle = Entrez.efetch(db=\"nucleotide\", id= nucleotide_id, rettype=\"gb\", retmode=\"text\")\n",
    "    nucleotide_list.append(handle.readline().strip())\n",
    "\n",
    "for item in nucleotide_list:\n",
    "    print(item)"
   ]
  },
  {
   "cell_type": "markdown",
   "metadata": {},
   "source": [
    "Результат такого коду значно повторює ручний пошук по БД nucleotide, однак, як і будь-який програмний засіб такого роду, дозволяє оптимізувати великі, масштабні запити та полегшує подальшу обробку. Приклад такої обробки даних представлений в наступному пункті.\n",
    "\t\t\n",
    "\n",
    "4. Наше фінальне на сьогодні завдання — побудувати графік зміни кількості статей для вибраної теми. Для будь-якого науковця важливо розуміти, наскільки активно йдуть розробки в обраній ним темі. Entrez дозволяє визначити таку інформацію, отримавши дані з БД Pubmed та PMC, що зберігають дані про наукові статті.\n",
    "\n",
    "Спочатку оберіть термін, який хочете шукати та час виходу наукових статей.\n"
   ]
  },
  {
   "cell_type": "code",
   "execution_count": null,
   "metadata": {},
   "outputs": [],
   "source": [
    "term = \"Microbiome\"\n",
    "starting_year = 2010\n",
    "final_year = 2018"
   ]
  },
  {
   "cell_type": "markdown",
   "metadata": {},
   "source": [
    "Наступний код дозволяє записати у список count_list інформацію, скільки виходило за вашою обраною темою наукових статей, отримаючи інформацію з БД PMC командою Entrez.esearch. Запустіть цей код"
   ]
  },
  {
   "cell_type": "code",
   "execution_count": null,
   "metadata": {},
   "outputs": [],
   "source": [
    "date_list = list(range(starting_year, final_year+1))\n",
    "\n",
    "count_list = []\n",
    "\n",
    "for date in date_list:\n",
    "    searchquery = '{} AND {}[Publication Date]'.format(term, date)\n",
    "    handle = Entrez.esearch(db = 'pmc', retmax = 100000, term = searchquery)\n",
    "    record = Entrez.read(handle)\n",
    "    handle.close()\n",
    "    count_list.append(int(record['Count']))"
   ]
  },
  {
   "cell_type": "code",
   "execution_count": null,
   "metadata": {},
   "outputs": [],
   "source": [
    "count_list"
   ]
  },
  {
   "cell_type": "markdown",
   "metadata": {},
   "source": [
    "Побудуйте графік популярності вашої теми у наукових працях, використовуючи бібліотеку мови Python matplotlib. Оскільки побудова графіків виходить за межі теми та мети цієї лабораторної роботи, пояснення принципу роботи нижченаведеного коду не надається. Для детальної інформації щодо matplotllib перейдіть за адресою: https://matplotlib.org/\n"
   ]
  },
  {
   "cell_type": "code",
   "execution_count": null,
   "metadata": {},
   "outputs": [],
   "source": [
    "fig_size = plt.rcParams[\"figure.figsize\"]\n",
    "fig_size[0] = 15\n",
    "fig_size[1] = 10\n",
    "plt.rcParams[\"figure.figsize\"] = fig_size\n",
    "\n",
    "font = {'family' : 'normal',\n",
    "        'weight' : 'normal',\n",
    "        'size'   : 14}\n",
    "\n",
    "mpl.rc('font', **font)\n",
    "\n",
    "fig,ax = plt.subplots()\n",
    "\n",
    "ax.plot(date_list, count_list, color='#ee7777', linewidth=4, label = term)\n",
    "\n",
    "ax.legend(loc='center left', bbox_to_anchor=(1, 0.5))\n",
    "ax.set_xlabel('Year')\n",
    "ax.set_ylabel('Scholarly Articles')\n",
    "ax.set_title('Scholarly publications about {}, {}-{}'.format(term, starting_year,final_year))"
   ]
  },
  {
   "cell_type": "markdown",
   "metadata": {},
   "source": [
    "### Висновки"
   ]
  },
  {
   "cell_type": "markdown",
   "metadata": {},
   "source": [
    "НАПИШІТЬ ВАШІ ВИСНОВКИ"
   ]
  },
  {
   "cell_type": "markdown",
   "metadata": {},
   "source": [
    "### Контрольні запитаня\n",
    "\n",
    "\n",
    "1. Що таке NCBI Entrez?\n",
    "2. Що таке Jupyter Notebook?\n",
    "3. Наведіть приклади використання програмних засобів для отримання інформації з наукових баз даних?\n",
    "4. Наведіть 5 баз даних, що входять до мережі баз даних NCBI\n",
    "5. Які, на вашу думку, переваги та недоліки застосування програмних засобів для отримання інформації з наукових баз даних?"
   ]
  }
 ],
 "metadata": {
  "kernelspec": {
   "display_name": "Python 3",
   "language": "python",
   "name": "python3"
  },
  "language_info": {
   "codemirror_mode": {
    "name": "ipython",
    "version": 3
   },
   "file_extension": ".py",
   "mimetype": "text/x-python",
   "name": "python",
   "nbconvert_exporter": "python",
   "pygments_lexer": "ipython3",
   "version": "3.7.3"
  }
 },
 "nbformat": 4,
 "nbformat_minor": 4
}
